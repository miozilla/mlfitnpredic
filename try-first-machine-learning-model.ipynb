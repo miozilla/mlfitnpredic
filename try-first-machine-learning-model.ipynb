{
 "cells": [
  {
   "cell_type": "markdown",
   "metadata": {},
   "source": [
    "**This notebook is a testing for Basic Machine Learning Model Proof of Concept such as model fitting and predictions.**\n",
    "\n",
    "---\n"
   ]
  },
  {
   "cell_type": "code",
   "execution_count": 1,
   "metadata": {
    "execution": {
     "iopub.execute_input": "2025-04-17T05:22:16.309118Z",
     "iopub.status.busy": "2025-04-17T05:22:16.308819Z",
     "iopub.status.idle": "2025-04-17T05:22:17.739836Z",
     "shell.execute_reply": "2025-04-17T05:22:17.738850Z",
     "shell.execute_reply.started": "2025-04-17T05:22:16.309094Z"
    },
    "trusted": true
   },
   "outputs": [
    {
     "name": "stdout",
     "output_type": "stream",
     "text": [
      "Setup Complete\n"
     ]
    }
   ],
   "source": [
    "# Load data\n",
    "import pandas as pd\n",
    "\n",
    "# Path of the file to read\n",
    "iowa_file_path = '../input/home-data-for-ml-course/train.csv'\n",
    "\n",
    "home_data = pd.read_csv(iowa_file_path)\n",
    "\n",
    "# Set up code checking\n",
    "from learntools.core import binder\n",
    "binder.bind(globals())\n",
    "from learntools.machine_learning.ex3 import *\n",
    "\n",
    "print(\"Setup Complete\")"
   ]
  },
  {
   "cell_type": "markdown",
   "metadata": {},
   "source": [
    "# Test 1\n",
    "\n",
    "## Step 1: Specify Prediction Target\n",
    "Select the target variable, which corresponds to the sales price.\n"
   ]
  },
  {
   "cell_type": "code",
   "execution_count": 2,
   "metadata": {
    "execution": {
     "iopub.execute_input": "2025-04-17T05:22:32.295762Z",
     "iopub.status.busy": "2025-04-17T05:22:32.294969Z",
     "iopub.status.idle": "2025-04-17T05:22:32.301833Z",
     "shell.execute_reply": "2025-04-17T05:22:32.300928Z",
     "shell.execute_reply.started": "2025-04-17T05:22:32.295732Z"
    },
    "trusted": true
   },
   "outputs": [
    {
     "name": "stdout",
     "output_type": "stream",
     "text": [
      "Index(['Id', 'MSSubClass', 'MSZoning', 'LotFrontage', 'LotArea', 'Street',\n",
      "       'Alley', 'LotShape', 'LandContour', 'Utilities', 'LotConfig',\n",
      "       'LandSlope', 'Neighborhood', 'Condition1', 'Condition2', 'BldgType',\n",
      "       'HouseStyle', 'OverallQual', 'OverallCond', 'YearBuilt', 'YearRemodAdd',\n",
      "       'RoofStyle', 'RoofMatl', 'Exterior1st', 'Exterior2nd', 'MasVnrType',\n",
      "       'MasVnrArea', 'ExterQual', 'ExterCond', 'Foundation', 'BsmtQual',\n",
      "       'BsmtCond', 'BsmtExposure', 'BsmtFinType1', 'BsmtFinSF1',\n",
      "       'BsmtFinType2', 'BsmtFinSF2', 'BsmtUnfSF', 'TotalBsmtSF', 'Heating',\n",
      "       'HeatingQC', 'CentralAir', 'Electrical', '1stFlrSF', '2ndFlrSF',\n",
      "       'LowQualFinSF', 'GrLivArea', 'BsmtFullBath', 'BsmtHalfBath', 'FullBath',\n",
      "       'HalfBath', 'BedroomAbvGr', 'KitchenAbvGr', 'KitchenQual',\n",
      "       'TotRmsAbvGrd', 'Functional', 'Fireplaces', 'FireplaceQu', 'GarageType',\n",
      "       'GarageYrBlt', 'GarageFinish', 'GarageCars', 'GarageArea', 'GarageQual',\n",
      "       'GarageCond', 'PavedDrive', 'WoodDeckSF', 'OpenPorchSF',\n",
      "       'EnclosedPorch', '3SsnPorch', 'ScreenPorch', 'PoolArea', 'PoolQC',\n",
      "       'Fence', 'MiscFeature', 'MiscVal', 'MoSold', 'YrSold', 'SaleType',\n",
      "       'SaleCondition', 'SalePrice'],\n",
      "      dtype='object')\n"
     ]
    }
   ],
   "source": [
    "# print the list of columns in the dataset to find the name of the prediction target\n",
    "print(home_data.columns)"
   ]
  },
  {
   "cell_type": "code",
   "execution_count": 3,
   "metadata": {
    "execution": {
     "iopub.execute_input": "2025-04-17T05:22:39.685522Z",
     "iopub.status.busy": "2025-04-17T05:22:39.684649Z",
     "iopub.status.idle": "2025-04-17T05:22:39.698517Z",
     "shell.execute_reply": "2025-04-17T05:22:39.697419Z",
     "shell.execute_reply.started": "2025-04-17T05:22:39.685482Z"
    },
    "trusted": true
   },
   "outputs": [
    {
     "name": "stdout",
     "output_type": "stream",
     "text": [
      "0       208500\n",
      "1       181500\n",
      "2       223500\n",
      "3       140000\n",
      "4       250000\n",
      "         ...  \n",
      "1455    175000\n",
      "1456    210000\n",
      "1457    266500\n",
      "1458    142125\n",
      "1459    147500\n",
      "Name: SalePrice, Length: 1460, dtype: int64\n"
     ]
    }
   ],
   "source": [
    "y = home_data.SalePrice\n",
    "\n",
    "# Check Sale Price\n",
    "print(y)"
   ]
  },
  {
   "cell_type": "markdown",
   "metadata": {},
   "source": [
    "## Step 2: Create X\n",
    "Create a DataFrame called `X` holding the predictive features.\n",
    "\n",
    "Create a list with the names of the related only columns we want in `X`.\n",
    "\n",
    "Columns:\n",
    "  * LotArea\n",
    "  * YearBuilt\n",
    "  * 1stFlrSF\n",
    "  * 2ndFlrSF\n",
    "  * FullBath\n",
    "  * BedroomAbvGr\n",
    "  * TotRmsAbvGrd\n",
    "\n",
    "This list of features, will be used to create the DataFrame to fit the model."
   ]
  },
  {
   "cell_type": "code",
   "execution_count": 4,
   "metadata": {
    "execution": {
     "iopub.execute_input": "2025-04-17T05:35:42.438798Z",
     "iopub.status.busy": "2025-04-17T05:35:42.438350Z",
     "iopub.status.idle": "2025-04-17T05:35:42.465296Z",
     "shell.execute_reply": "2025-04-17T05:35:42.464436Z",
     "shell.execute_reply.started": "2025-04-17T05:35:42.438770Z"
    },
    "trusted": true
   },
   "outputs": [
    {
     "name": "stdout",
     "output_type": "stream",
     "text": [
      "      LotArea  YearBuilt  1stFlrSF  2ndFlrSF  FullBath  BedroomAbvGr  \\\n",
      "0        8450       2003       856       854         2             3   \n",
      "1        9600       1976      1262         0         2             3   \n",
      "2       11250       2001       920       866         2             3   \n",
      "3        9550       1915       961       756         1             3   \n",
      "4       14260       2000      1145      1053         2             4   \n",
      "...       ...        ...       ...       ...       ...           ...   \n",
      "1455     7917       1999       953       694         2             3   \n",
      "1456    13175       1978      2073         0         2             3   \n",
      "1457     9042       1941      1188      1152         2             4   \n",
      "1458     9717       1950      1078         0         1             2   \n",
      "1459     9937       1965      1256         0         1             3   \n",
      "\n",
      "      TotRmsAbvGrd  \n",
      "0                8  \n",
      "1                6  \n",
      "2                6  \n",
      "3                7  \n",
      "4                9  \n",
      "...            ...  \n",
      "1455             7  \n",
      "1456             7  \n",
      "1457             9  \n",
      "1458             5  \n",
      "1459             6  \n",
      "\n",
      "[1460 rows x 7 columns]\n"
     ]
    }
   ],
   "source": [
    "# Create the list of features below\n",
    "feature_names = [\"LotArea\", \"YearBuilt\", \"1stFlrSF\", \"2ndFlrSF\", \n",
    "                 \"FullBath\", \"BedroomAbvGr\", \"TotRmsAbvGrd\"]\n",
    "\n",
    "# Select data corresponding to features in feature_names\n",
    "X = home_data[feature_names]\n",
    "\n",
    "# Print X\n",
    "print(X)"
   ]
  },
  {
   "cell_type": "markdown",
   "metadata": {},
   "source": [
    "## Review Data\n",
    "Before building a model, take a quick look at **X** to verify it looks sensible"
   ]
  },
  {
   "cell_type": "code",
   "execution_count": 13,
   "metadata": {
    "execution": {
     "iopub.execute_input": "2024-08-02T16:53:17.037875Z",
     "iopub.status.busy": "2024-08-02T16:53:17.037475Z",
     "iopub.status.idle": "2024-08-02T16:53:17.071246Z",
     "shell.execute_reply": "2024-08-02T16:53:17.070191Z",
     "shell.execute_reply.started": "2024-08-02T16:53:17.037842Z"
    },
    "trusted": true
   },
   "outputs": [
    {
     "name": "stdout",
     "output_type": "stream",
     "text": [
      "             LotArea    YearBuilt     1stFlrSF     2ndFlrSF     FullBath  \\\n",
      "count    1460.000000  1460.000000  1460.000000  1460.000000  1460.000000   \n",
      "mean    10516.828082  1971.267808  1162.626712   346.992466     1.565068   \n",
      "std      9981.264932    30.202904   386.587738   436.528436     0.550916   \n",
      "min      1300.000000  1872.000000   334.000000     0.000000     0.000000   \n",
      "25%      7553.500000  1954.000000   882.000000     0.000000     1.000000   \n",
      "50%      9478.500000  1973.000000  1087.000000     0.000000     2.000000   \n",
      "75%     11601.500000  2000.000000  1391.250000   728.000000     2.000000   \n",
      "max    215245.000000  2010.000000  4692.000000  2065.000000     3.000000   \n",
      "\n",
      "       BedroomAbvGr  TotRmsAbvGrd  \n",
      "count   1460.000000   1460.000000  \n",
      "mean       2.866438      6.517808  \n",
      "std        0.815778      1.625393  \n",
      "min        0.000000      2.000000  \n",
      "25%        2.000000      5.000000  \n",
      "50%        3.000000      6.000000  \n",
      "75%        3.000000      7.000000  \n",
      "max        8.000000     14.000000  \n",
      "   LotArea  YearBuilt  1stFlrSF  2ndFlrSF  FullBath  BedroomAbvGr  \\\n",
      "0     8450       2003       856       854         2             3   \n",
      "1     9600       1976      1262         0         2             3   \n",
      "2    11250       2001       920       866         2             3   \n",
      "3     9550       1915       961       756         1             3   \n",
      "4    14260       2000      1145      1053         2             4   \n",
      "\n",
      "   TotRmsAbvGrd  \n",
      "0             8  \n",
      "1             6  \n",
      "2             6  \n",
      "3             7  \n",
      "4             9  \n"
     ]
    }
   ],
   "source": [
    "# Review data\n",
    "# print description or statistics from X\n",
    "print(X.describe())\n",
    "\n",
    "# print the top few lines\n",
    "print(X.head())"
   ]
  },
  {
   "cell_type": "markdown",
   "metadata": {},
   "source": [
    "## Step 3: Specify and Fit Model\n",
    "Create a `DecisionTreeRegressor` and save it iowa_model. Ensure relevant import from sklearn to run this command.\n",
    "\n",
    "Then fit the model that just have been created using the data in `X` and `y` that we saved above."
   ]
  },
  {
   "cell_type": "code",
   "execution_count": 6,
   "metadata": {
    "execution": {
     "iopub.execute_input": "2025-04-17T05:47:22.984210Z",
     "iopub.status.busy": "2025-04-17T05:47:22.983890Z",
     "iopub.status.idle": "2025-04-17T05:47:22.998671Z",
     "shell.execute_reply": "2025-04-17T05:47:22.997722Z",
     "shell.execute_reply.started": "2025-04-17T05:47:22.984184Z"
    },
    "trusted": true
   },
   "outputs": [
    {
     "name": "stdout",
     "output_type": "stream",
     "text": [
      "DecisionTreeRegressor(random_state=1)\n"
     ]
    }
   ],
   "source": [
    "from sklearn.tree import DecisionTreeRegressor\n",
    "#specify the model. \n",
    "#For model reproducibility, set a numeric value for random_state when specifying the model\n",
    "iowa_model = DecisionTreeRegressor(random_state=1)\n",
    "\n",
    "# Fit the model\n",
    "fitting = iowa_model.fit(X,y)\n",
    "\n",
    "# Print fitting\n",
    "print(fitting)"
   ]
  },
  {
   "cell_type": "markdown",
   "metadata": {},
   "source": [
    "## Step 4: Make Predictions\n",
    "Make predictions with the model's `predict` command using `X` as the data. Save the results to a variable called `predictions`."
   ]
  },
  {
   "cell_type": "code",
   "execution_count": null,
   "metadata": {
    "execution": {
     "iopub.execute_input": "2025-04-17T05:48:37.402214Z",
     "iopub.status.busy": "2025-04-17T05:48:37.401205Z",
     "iopub.status.idle": "2025-04-17T05:48:37.409273Z",
     "shell.execute_reply": "2025-04-17T05:48:37.408191Z",
     "shell.execute_reply.started": "2025-04-17T05:48:37.402181Z"
    },
    "trusted": true
   },
   "outputs": [
    {
     "name": "stdout",
     "output_type": "stream",
     "text": [
      "[208500. 181500. 223500. ... 266500. 142125. 147500.]\n"
     ]
    }
   ],
   "source": [
    "predictions = iowa_model.predict(X)\n",
    "print(predictions)"
   ]
  },
  {
   "cell_type": "markdown",
   "metadata": {},
   "source": [
    "## Think About the Results\n",
    "\n",
    "Use the `head` method to compare the top few predictions to the actual home values (in `y`) for those same homes. Anything surprising?\n"
   ]
  },
  {
   "cell_type": "code",
   "execution_count": 8,
   "metadata": {
    "execution": {
     "iopub.execute_input": "2025-04-17T05:50:10.773045Z",
     "iopub.status.busy": "2025-04-17T05:50:10.772688Z",
     "iopub.status.idle": "2025-04-17T05:50:10.781741Z",
     "shell.execute_reply": "2025-04-17T05:50:10.780639Z",
     "shell.execute_reply.started": "2025-04-17T05:50:10.773017Z"
    },
    "trusted": true
   },
   "outputs": [
    {
     "name": "stdout",
     "output_type": "stream",
     "text": [
      "[208500. 181500. 223500. ... 266500. 142125. 147500.]\n",
      "[208500. 181500. 223500. 140000. 250000.]\n"
     ]
    }
   ],
   "source": [
    "# Print X and X.head\n",
    "print(iowa_model.predict(X))\n",
    "print(iowa_model.predict(X.head()))"
   ]
  },
  {
   "cell_type": "markdown",
   "metadata": {},
   "source": [
    "It's natural to ask how accurate the model's predictions will be and how we can improve that.\n",
    "\n",
    "# End Test 1\n",
    "\n",
    "Further POC Testing:  **Model Validation.**\n"
   ]
  },
  {
   "cell_type": "markdown",
   "metadata": {},
   "source": [
    "---\n",
    "\n",
    "\n",
    "\n",
    "\n",
    "*Author : Mior*"
   ]
  }
 ],
 "metadata": {
  "kaggle": {
   "accelerator": "none",
   "dataSources": [
    {
     "databundleVersionId": 111096,
     "sourceId": 10211,
     "sourceType": "competition"
    },
    {
     "datasetId": 11167,
     "sourceId": 15520,
     "sourceType": "datasetVersion"
    },
    {
     "datasetId": 2709,
     "sourceId": 38454,
     "sourceType": "datasetVersion"
    }
   ],
   "isGpuEnabled": false,
   "isInternetEnabled": false,
   "language": "python",
   "sourceType": "notebook"
  },
  "kernelspec": {
   "display_name": "Python 3",
   "language": "python",
   "name": "python3"
  },
  "language_info": {
   "codemirror_mode": {
    "name": "ipython",
    "version": 3
   },
   "file_extension": ".py",
   "mimetype": "text/x-python",
   "name": "python",
   "nbconvert_exporter": "python",
   "pygments_lexer": "ipython3",
   "version": "3.11.11"
  }
 },
 "nbformat": 4,
 "nbformat_minor": 4
}
